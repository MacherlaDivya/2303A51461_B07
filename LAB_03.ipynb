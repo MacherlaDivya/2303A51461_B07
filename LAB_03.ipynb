{
  "nbformat": 4,
  "nbformat_minor": 0,
  "metadata": {
    "colab": {
      "provenance": []
    },
    "kernelspec": {
      "name": "python3",
      "display_name": "Python 3"
    },
    "language_info": {
      "name": "python"
    }
  },
  "cells": [
    {
      "cell_type": "code",
      "execution_count": null,
      "metadata": {
        "colab": {
          "base_uri": "https://localhost:8080/"
        },
        "id": "A_dGeNR6Gkz1",
        "outputId": "08e4d88b-844d-4cbc-8ccc-6ee60bf70459"
      },
      "outputs": [
        {
          "output_type": "stream",
          "name": "stdout",
          "text": [
            "arr1+arr2\n",
            "[[13 14 35]\n",
            " [48 20 69]\n",
            " [24 26 28]]\n",
            "arr1-arr2\n",
            "[[-11 -10 -29]\n",
            " [-40 -10 -57]\n",
            " [-10 -10 -10]]\n",
            "add\n",
            "[[13 14 35]\n",
            " [48 20 69]\n",
            " [24 26 28]]\n",
            "sub\n",
            "[[-11 -10 -29]\n",
            " [-40 -10 -57]\n",
            " [-10 -10 -10]]\n"
          ]
        }
      ],
      "source": [
        "\n",
        "\n",
        "  import numpy as np\n",
        "  arr1=np.array([[1,2,3],[4,5,6],[7,8,9]])\n",
        "  arr2=np.array([[12,12,32],[44,15,63],[17,18,19]])\n",
        "  print(\"arr1+arr2\")\n",
        "  print(arr1+arr2)\n",
        "  print(\"arr1-arr2\")\n",
        "  print(arr1-arr2)\n",
        "  add=np.add(arr1,arr2)\n",
        "  print(\"add\")\n",
        "  print(add)\n",
        "  sub=np.subtract(arr1,arr2)\n",
        "  print(\"sub\")\n",
        "  print(sub)"
      ]
    },
    {
      "cell_type": "code",
      "source": [
        "\n",
        "\n",
        "  import numpy as np\n",
        "\n",
        "  arr3 = np.array([[1, 2], [3, 4], [5, 6]])\n",
        "  arr4 = np.array([[7, 8, 9], [10, 11, 12]])\n",
        "  dot = np.dot(arr3, arr4)\n",
        "  ans = arr3 @ arr4\n",
        "  print(\"Matrix A\")\n",
        "  print(arr3)\n",
        "  print(\"Matrix B\")\n",
        "  print(arr4)\n",
        "  print(\"dot\")\n",
        "  print(dot)\n",
        "  print(\"ans\")\n",
        "  print(ans)"
      ],
      "metadata": {
        "colab": {
          "base_uri": "https://localhost:8080/"
        },
        "id": "5H1FjJ8cJRVH",
        "outputId": "bd32e707-228a-4393-fcdc-b48401dcf92f"
      },
      "execution_count": null,
      "outputs": [
        {
          "output_type": "stream",
          "name": "stdout",
          "text": [
            "Matrix A\n",
            "[[1 2]\n",
            " [3 4]\n",
            " [5 6]]\n",
            "Matrix B\n",
            "[[ 7  8  9]\n",
            " [10 11 12]]\n",
            "dot\n",
            "[[ 27  30  33]\n",
            " [ 61  68  75]\n",
            " [ 95 106 117]]\n",
            "ans\n",
            "[[ 27  30  33]\n",
            " [ 61  68  75]\n",
            " [ 95 106 117]]\n"
          ]
        }
      ]
    },
    {
      "cell_type": "markdown",
      "source": [
        "Creating a File"
      ],
      "metadata": {
        "id": "HgTIsz6dJaTy"
      }
    },
    {
      "cell_type": "code",
      "source": [
        "file=open(\"example.txt\",\"w\")\n",
        "file.write(\"Hello ,Btech students!\\n\")\n",
        "file.write(\"This is file handaling in python,\\n\")\n",
        "file.write(\"SR University \")\n",
        "file.close()\n",
        "print(\"done\")"
      ],
      "metadata": {
        "colab": {
          "base_uri": "https://localhost:8080/"
        },
        "id": "Q7bbWAILJgbV",
        "outputId": "4f31bd8f-1dbb-436e-b0b9-c8352945dfc6"
      },
      "execution_count": null,
      "outputs": [
        {
          "output_type": "stream",
          "name": "stdout",
          "text": [
            "done\n"
          ]
        }
      ]
    },
    {
      "cell_type": "markdown",
      "source": [
        "\n",
        "  \"Reading file\""
      ],
      "metadata": {
        "id": "T-n2hsXtJn4W"
      }
    },
    {
      "cell_type": "code",
      "source": [
        "file=open(\"example.txt\",\"r\")\n",
        "print(file.read())\n",
        "file.close()"
      ],
      "metadata": {
        "colab": {
          "base_uri": "https://localhost:8080/"
        },
        "id": "Kzf470OSJpaj",
        "outputId": "e3be5b9f-8d44-4301-e57b-30ba3a7ad5a9"
      },
      "execution_count": null,
      "outputs": [
        {
          "output_type": "stream",
          "name": "stdout",
          "text": [
            "Hello ,Btech students!\n",
            "This is file handaling in python,\n",
            "SR University \n"
          ]
        }
      ]
    },
    {
      "cell_type": "markdown",
      "source": [
        "\n",
        "  Read line by line\n"
      ],
      "metadata": {
        "id": "XvbR3P5oJyTi"
      }
    },
    {
      "cell_type": "code",
      "source": [
        "file=open(\"example.txt\",\"r\")\n",
        "line1=file.readline()\n",
        "print(line1)\n",
        "line2=file.readline()\n",
        "print(line2)\n",
        "line3=file.readline()\n",
        "print(line3)\n",
        "file.close()"
      ],
      "metadata": {
        "colab": {
          "base_uri": "https://localhost:8080/"
        },
        "id": "K8jLGHwLJz3w",
        "outputId": "93d9e091-42ad-43ff-efe9-b2e1847fc971"
      },
      "execution_count": null,
      "outputs": [
        {
          "output_type": "stream",
          "name": "stdout",
          "text": [
            "Hello ,Btech students!\n",
            "\n",
            "This is file handaling in python,\n",
            "\n",
            "SR University \n"
          ]
        }
      ]
    },
    {
      "cell_type": "code",
      "source": [
        "file = open(\"example.txt\",\"r\")\n",
        "lines = file.readlines()\n",
        "print(\"all\", lines)\n",
        "file.close()"
      ],
      "metadata": {
        "colab": {
          "base_uri": "https://localhost:8080/"
        },
        "id": "7FS0qdtYJ4g1",
        "outputId": "349b82cb-c5d5-4d14-f714-0f3f8b70ce76"
      },
      "execution_count": null,
      "outputs": [
        {
          "output_type": "stream",
          "name": "stdout",
          "text": [
            "all ['Hello ,Btech students!\\n', 'This is file handaling in python,\\n', 'SR University ']\n"
          ]
        }
      ]
    },
    {
      "cell_type": "code",
      "source": [
        "file = open(\"example.txt\",\"a\")\n",
        "file.write(\"appending new data\\n\")\n",
        "file.close()"
      ],
      "metadata": {
        "id": "JtzgMBY9J8c1"
      },
      "execution_count": null,
      "outputs": []
    },
    {
      "cell_type": "code",
      "source": [
        "with open(\"example.txt\",\"r\") as file:\n",
        "  data=file.read()\n",
        "print(data)"
      ],
      "metadata": {
        "colab": {
          "base_uri": "https://localhost:8080/"
        },
        "id": "vsklutZcKDLE",
        "outputId": "ff7a6dae-b560-4693-aabd-b5d84a92e23c"
      },
      "execution_count": null,
      "outputs": [
        {
          "output_type": "stream",
          "name": "stdout",
          "text": [
            "Hello ,Btech students!\n",
            "This is file handaling in python,\n",
            "SR University appending new data\n",
            "\n"
          ]
        }
      ]
    },
    {
      "cell_type": "markdown",
      "source": [
        "\n",
        "  create and write csv"
      ],
      "metadata": {
        "id": "33q0_h5LKvbZ"
      }
    },
    {
      "cell_type": "code",
      "source": [
        "import csv\n",
        "with open(\"data.csv\",\"w\",newline=\"\") as file:\n",
        "  writer=csv.writer(file)\n",
        "  writer.writerow([\"Name\",\"age\",\"course\"])\n",
        "  writer.writerow([\"a\",18,\"cse\"])\n",
        "  writer.writerow([\"a\",22,\"cse\"])\n",
        "  writer.writerow([\"a\",31,\"cse\"])"
      ],
      "metadata": {
        "id": "IyleRgHyKyLz"
      },
      "execution_count": null,
      "outputs": []
    },
    {
      "cell_type": "markdown",
      "source": [
        "\n",
        "  read csv\n"
      ],
      "metadata": {
        "id": "1hDW1laOLWBW"
      }
    },
    {
      "cell_type": "code",
      "source": [
        "with open(\"data.csv\",\"r\") as file:\n",
        "    read=csv.reader(file)\n",
        "    for row in read:\n",
        "        print(row)"
      ],
      "metadata": {
        "colab": {
          "base_uri": "https://localhost:8080/"
        },
        "id": "EB8i3FPNLXQg",
        "outputId": "7d5c1111-5d74-43f5-cc1f-c04c8be5e1ac"
      },
      "execution_count": null,
      "outputs": [
        {
          "output_type": "stream",
          "name": "stdout",
          "text": [
            "['Name', 'age', 'course']\n",
            "['a', '18', 'cse']\n",
            "['a', '22', 'cse']\n",
            "['a', '31', 'cse']\n"
          ]
        }
      ]
    },
    {
      "cell_type": "code",
      "source": [],
      "metadata": {
        "id": "Bm8pQ7C5LjH1"
      },
      "execution_count": null,
      "outputs": []
    }
  ]
}